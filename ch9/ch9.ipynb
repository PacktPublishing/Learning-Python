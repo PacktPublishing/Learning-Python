{
 "cells": [
  {
   "cell_type": "markdown",
   "metadata": {
    "deletable": true,
    "editable": true
   },
   "source": [
    "# Chapter 9 - Data Science"
   ]
  },
  {
   "cell_type": "markdown",
   "metadata": {
    "deletable": true,
    "editable": true
   },
   "source": [
    "## 0 - Setting up the notebook"
   ]
  },
  {
   "cell_type": "code",
   "execution_count": null,
   "metadata": {
    "collapsed": false,
    "deletable": true,
    "editable": true
   },
   "outputs": [],
   "source": [
    "import json\n",
    "import calendar\n",
    "import random\n",
    "from datetime import date, timedelta\n",
    "import faker\n",
    "import numpy as np\n",
    "from pandas import DataFrame\n",
    "from delorean import parse\n",
    "import pandas as pd\n",
    "\n",
    "# make the graphs nicer\n",
    "import matplotlib.pyplot as plt\n",
    "plt.style.use('ggplot')\n",
    "# see all available with: print(plt.style.available)"
   ]
  },
  {
   "cell_type": "markdown",
   "metadata": {
    "deletable": true,
    "editable": true
   },
   "source": [
    "## 1 - Preparing the Data"
   ]
  },
  {
   "cell_type": "code",
   "execution_count": null,
   "metadata": {
    "collapsed": false,
    "deletable": true,
    "editable": true
   },
   "outputs": [],
   "source": [
    "# create the faker to populate the data\n",
    "fake = faker.Faker()"
   ]
  },
  {
   "cell_type": "code",
   "execution_count": null,
   "metadata": {
    "collapsed": false,
    "deletable": true,
    "editable": true
   },
   "outputs": [],
   "source": [
    "usernames = set()\n",
    "usernames_no = 1000\n",
    "\n",
    "# populate the set with 1000 unique usernames\n",
    "while len(usernames) < usernames_no:\n",
    "    usernames.add(fake.user_name())"
   ]
  },
  {
   "cell_type": "code",
   "execution_count": null,
   "metadata": {
    "collapsed": false,
    "deletable": true,
    "editable": true
   },
   "outputs": [],
   "source": [
    "def get_random_name_and_gender():\n",
    "    skew = .6  # 60% of users will be female\n",
    "    male = random.random() > skew\n",
    "    if male:\n",
    "        return fake.name_male(), 'M'\n",
    "    else:\n",
    "        return fake.name_female(), 'F'\n",
    "\n",
    "# for each username, create a complete user profile\n",
    "# simulate user data coming from an API. It is a list\n",
    "# of JSON strings (users).\n",
    "def get_users(usernames):\n",
    "    users = []\n",
    "    for username in usernames:\n",
    "        name, gender = get_random_name_and_gender()\n",
    "        user = {\n",
    "            'username': username,\n",
    "            'name': name,\n",
    "            'gender': gender,\n",
    "            'email': fake.email(),\n",
    "            'age': fake.random_int(min=18, max=90),\n",
    "            'address': fake.address(),\n",
    "        }\n",
    "        users.append(json.dumps(user))\n",
    "    return users\n",
    "\n",
    "users = get_users(usernames)\n",
    "users[:3]"
   ]
  },
  {
   "cell_type": "code",
   "execution_count": null,
   "metadata": {
    "collapsed": false,
    "deletable": true,
    "editable": true
   },
   "outputs": [],
   "source": [
    "# campaign name format:\n",
    "# InternalType_StartDate_EndDate_TargetAge_TargetGender_Currency\n",
    "def get_type():\n",
    "    # just some gibberish internal codes\n",
    "    types = ['AKX', 'BYU', 'GRZ', 'KTR']\n",
    "    return random.choice(types)\n",
    "\n",
    "def get_start_end_dates():\n",
    "    duration = random.randint(1, 2 * 365)\n",
    "    offset = random.randint(-365, 365)\n",
    "    start = date.today() - timedelta(days=offset)\n",
    "    end = start + timedelta(days=duration)\n",
    "    \n",
    "    def _format_date(date_):\n",
    "        return date_.strftime(\"%Y%m%d\")\n",
    "    \n",
    "    return _format_date(start), _format_date(end)\n",
    "\n",
    "def get_age():\n",
    "    age = random.randint(20, 45)\n",
    "    age -= age % 5\n",
    "    diff = random.randint(5, 25)\n",
    "    diff -= diff % 5\n",
    "    return '{}-{}'.format(age, age + diff)\n",
    "\n",
    "def get_gender():\n",
    "    return random.choice(('M', 'F', 'B'))\n",
    "\n",
    "def get_currency():\n",
    "    return random.choice(('GBP', 'EUR', 'USD'))\n",
    "\n",
    "def get_campaign_name():\n",
    "    separator = '_'\n",
    "    type_ = get_type()\n",
    "    start_end = separator.join(get_start_end_dates())\n",
    "    age = get_age()\n",
    "    gender = get_gender()\n",
    "    currency = get_currency()\n",
    "    return separator.join(\n",
    "        (type_, start_end, age, gender, currency))"
   ]
  },
  {
   "cell_type": "code",
   "execution_count": null,
   "metadata": {
    "collapsed": false,
    "deletable": true,
    "editable": true
   },
   "outputs": [],
   "source": [
    "# campaign data:\n",
    "# name, budget, spent, clicks, impressions\n",
    "def get_campaign_data():\n",
    "    name = get_campaign_name()\n",
    "    budget = random.randint(10**3, 10**6)\n",
    "    spent = random.randint(10**2, budget)    \n",
    "    clicks = int(random.triangular(10**2, 10**5, 0.2 * 10**5))    \n",
    "    impressions = int(random.gauss(0.5 * 10**6, 2))\n",
    "    return {\n",
    "        'cmp_name': name,\n",
    "        'cmp_bgt': budget,\n",
    "        'cmp_spent': spent,\n",
    "        'cmp_clicks': clicks,\n",
    "        'cmp_impr': impressions\n",
    "    }"
   ]
  },
  {
   "cell_type": "code",
   "execution_count": null,
   "metadata": {
    "collapsed": false,
    "deletable": true,
    "editable": true
   },
   "outputs": [],
   "source": [
    "# assemble the logic to get the final version of the rough data\n",
    "# data will be a list of dictionaries. Each dictionary will follow\n",
    "# this structure:\n",
    "# {'user': user_json, 'campaigns': [c1, c2, ...]}\n",
    "# where user_json is the JSON string version of a user data dict\n",
    "# and c1, c2, ... are campaign dicts as returned by\n",
    "# get_campaign_data\n",
    "\n",
    "def get_data(users):\n",
    "    data = []\n",
    "    for user in users:\n",
    "        campaigns = [get_campaign_data()\n",
    "                     for _ in range(random.randint(2, 8))]\n",
    "        data.append({'user': user, 'campaigns': campaigns})\n",
    "    return data"
   ]
  },
  {
   "cell_type": "markdown",
   "metadata": {
    "deletable": true,
    "editable": true
   },
   "source": [
    "## 2 - Cleaning the data"
   ]
  },
  {
   "cell_type": "code",
   "execution_count": null,
   "metadata": {
    "collapsed": false,
    "deletable": true,
    "editable": true
   },
   "outputs": [],
   "source": [
    "# fetch simulated rough data\n",
    "rough_data = get_data(users)\n",
    "\n",
    "rough_data[:2]  # let's take a peek"
   ]
  },
  {
   "cell_type": "code",
   "execution_count": null,
   "metadata": {
    "collapsed": false,
    "deletable": true,
    "editable": true
   },
   "outputs": [],
   "source": [
    "# Let's start from having a different version of the data\n",
    "# I want a list whose items will be dicts. Each dict is \n",
    "# the original campaign dict plus the user JSON\n",
    "\n",
    "data = []\n",
    "for datum in rough_data:\n",
    "    for campaign in datum['campaigns']:\n",
    "        campaign.update({'user': datum['user']})\n",
    "        data.append(campaign)\n",
    "data[:2]  # let's take another peek"
   ]
  },
  {
   "cell_type": "markdown",
   "metadata": {
    "deletable": true,
    "editable": true
   },
   "source": [
    "### Creating the DataFrame"
   ]
  },
  {
   "cell_type": "code",
   "execution_count": null,
   "metadata": {
    "collapsed": false,
    "deletable": true,
    "editable": true
   },
   "outputs": [],
   "source": [
    "# data is good enough for creating an initial DataFrame\n",
    "df = DataFrame(data)\n",
    "\n",
    "# let's take a peek at the first 5 rows, to make sure\n",
    "# nothing weird has happened\n",
    "df.head()"
   ]
  },
  {
   "cell_type": "code",
   "execution_count": null,
   "metadata": {
    "collapsed": false,
    "deletable": true,
    "editable": true
   },
   "outputs": [],
   "source": [
    "# OK! DataFrame is alive and well!\n",
    "# let's get a sense of how many rows there are and what is\n",
    "# their structure.\n",
    "df.count()"
   ]
  },
  {
   "cell_type": "code",
   "execution_count": null,
   "metadata": {
    "collapsed": false,
    "deletable": true,
    "editable": true
   },
   "outputs": [],
   "source": [
    "df.describe()"
   ]
  },
  {
   "cell_type": "code",
   "execution_count": null,
   "metadata": {
    "collapsed": false,
    "deletable": true,
    "editable": true
   },
   "outputs": [],
   "source": [
    "# let's see which are the top and bottom 3 campaigns according\n",
    "# to budget (regardless of the currency)\n",
    "df.sort_values(by=['cmp_bgt'], ascending=False).head(3)"
   ]
  },
  {
   "cell_type": "code",
   "execution_count": null,
   "metadata": {
    "collapsed": false,
    "deletable": true,
    "editable": true
   },
   "outputs": [],
   "source": [
    "df.sort_values(by=['cmp_bgt'], ascending=False).tail(3)"
   ]
  },
  {
   "cell_type": "markdown",
   "metadata": {
    "deletable": true,
    "editable": true
   },
   "source": [
    "## 3 - Manipulating the DataFrame"
   ]
  },
  {
   "cell_type": "code",
   "execution_count": null,
   "metadata": {
    "collapsed": false,
    "deletable": true,
    "editable": true
   },
   "outputs": [],
   "source": [
    "# first, let's explode cmp_name into its components\n",
    "# and get a separate DataFrame for those\n",
    "\n",
    "def unpack_campaign_name(name):\n",
    "    # very optimistic method, assumes data in campaign name\n",
    "    # is always in good state\n",
    "    type_, start, end, age, gender, currency = name.split('_')\n",
    "    start = parse(start).date\n",
    "    end = parse(end).date\n",
    "    return type_, start, end, age, gender, currency\n",
    "\n",
    "campaign_data = df['cmp_name'].apply(unpack_campaign_name)\n",
    "campaign_cols = [\n",
    "    'Type', 'Start', 'End', 'Age', 'Gender', 'Currency']\n",
    "campaign_df = DataFrame(\n",
    "    campaign_data.tolist(), columns=campaign_cols, index=df.index)\n",
    "campaign_df.head(3)"
   ]
  },
  {
   "cell_type": "code",
   "execution_count": null,
   "metadata": {
    "collapsed": false,
    "deletable": true,
    "editable": true
   },
   "outputs": [],
   "source": [
    "# let's join the two dataframes\n",
    "df = df.join(campaign_df)"
   ]
  },
  {
   "cell_type": "code",
   "execution_count": null,
   "metadata": {
    "collapsed": false,
    "deletable": true,
    "editable": true
   },
   "outputs": [],
   "source": [
    "# and take a peek: good! We didn't screw up!\n",
    "df[['cmp_name'] + campaign_cols].head(3)"
   ]
  },
  {
   "cell_type": "code",
   "execution_count": null,
   "metadata": {
    "collapsed": false,
    "deletable": true,
    "editable": true
   },
   "outputs": [],
   "source": [
    "# now let's do the same for the JSON user object\n",
    "\n",
    "def unpack_user_json(user):\n",
    "    # very optimistic as well, expects user objects\n",
    "    # to have all attributes\n",
    "    user = json.loads(user.strip())\n",
    "    return [\n",
    "        user['username'],\n",
    "        user['email'],\n",
    "        user['name'],\n",
    "        user['gender'],\n",
    "        user['age'],\n",
    "        user['address'],\n",
    "    ]\n",
    "\n",
    "user_data = df['user'].apply(unpack_user_json)\n",
    "user_cols = [\n",
    "    'username', 'email', 'name', 'gender', 'age', 'address']\n",
    "user_df = DataFrame(\n",
    "    user_data.tolist(), columns=user_cols, index=df.index)"
   ]
  },
  {
   "cell_type": "code",
   "execution_count": null,
   "metadata": {
    "collapsed": true,
    "deletable": true,
    "editable": true
   },
   "outputs": [],
   "source": [
    "# let's join the two dataframes\n",
    "df = df.join(user_df)"
   ]
  },
  {
   "cell_type": "code",
   "execution_count": null,
   "metadata": {
    "collapsed": false,
    "deletable": true,
    "editable": true
   },
   "outputs": [],
   "source": [
    "# and take a peek: good! Also this time we didn't screw up!\n",
    "df[['user'] + user_cols].head(2)"
   ]
  },
  {
   "cell_type": "code",
   "execution_count": null,
   "metadata": {
    "collapsed": false,
    "deletable": true,
    "editable": true
   },
   "outputs": [],
   "source": [
    "# now we have the DataFrame completely expanded, so it's\n",
    "# time to play with it. First, let's fix those ugly column names\n",
    "better_columns = [\n",
    "    'Budget', 'Clicks', 'Impressions',\n",
    "    'cmp_name', 'Spent', 'user',\n",
    "    'Type', 'Start', 'End',\n",
    "    'Target Age', 'Target Gender', 'Currency',\n",
    "    'Username', 'Email', 'Name',\n",
    "    'Gender', 'Age', 'Address',\n",
    "]\n",
    "df.columns = better_columns"
   ]
  },
  {
   "cell_type": "code",
   "execution_count": null,
   "metadata": {
    "collapsed": false,
    "deletable": true,
    "editable": true
   },
   "outputs": [],
   "source": [
    "# let's add three other columns\n",
    "\n",
    "def calculate_extra_columns(df):\n",
    "    # Click Through Rate\n",
    "    df['CTR'] = df['Clicks'] / df['Impressions']\n",
    "    # Cost Per Click\n",
    "    df['CPC'] = df['Spent'] / df['Clicks']\n",
    "    # Cost Per Impression\n",
    "    df['CPI'] = df['Spent'] / df['Impressions']\n",
    "    \n",
    "calculate_extra_columns(df)"
   ]
  },
  {
   "cell_type": "code",
   "execution_count": null,
   "metadata": {
    "collapsed": false,
    "deletable": true,
    "editable": true
   },
   "outputs": [],
   "source": [
    "# let's take a peek\n",
    "df[['Spent', 'Clicks', 'Impressions',\n",
    "    'CTR', 'CPC', 'CPI']].head(3)"
   ]
  },
  {
   "cell_type": "code",
   "execution_count": null,
   "metadata": {
    "collapsed": false,
    "deletable": true,
    "editable": true
   },
   "outputs": [],
   "source": [
    "# let's take the values of the first row and verify\n",
    "clicks = df['Clicks'][0]\n",
    "impressions = df['Impressions'][0]\n",
    "spent = df['Spent'][0]\n",
    "\n",
    "CTR = df['CTR'][0]\n",
    "CPC = df['CPC'][0]\n",
    "CPI = df['CPI'][0]\n",
    "\n",
    "print('CTR:', CTR, clicks / impressions)\n",
    "print('CPC:', CPC, spent / clicks)\n",
    "print('CPI:', CPI, spent / impressions)"
   ]
  },
  {
   "cell_type": "code",
   "execution_count": null,
   "metadata": {
    "collapsed": false,
    "deletable": true,
    "editable": true
   },
   "outputs": [],
   "source": [
    "# let's also add the name of the Day when campaign starts\n",
    "def get_day_of_the_week(day):\n",
    "    number_to_day = dict(enumerate(calendar.day_name, 1))\n",
    "    return number_to_day[day.isoweekday()]\n",
    "\n",
    "def get_duration(row):\n",
    "    return (row['End'] - row['Start']).days\n",
    "\n",
    "df['Day of Week'] = df['Start'].apply(get_day_of_the_week)\n",
    "df['Duration'] = df.apply(get_duration, axis=1)"
   ]
  },
  {
   "cell_type": "code",
   "execution_count": null,
   "metadata": {
    "collapsed": false,
    "deletable": true,
    "editable": true
   },
   "outputs": [],
   "source": [
    "# let's verify\n",
    "df[['Start', 'End', 'Duration', 'Day of Week']].head(3)"
   ]
  },
  {
   "cell_type": "code",
   "execution_count": null,
   "metadata": {
    "collapsed": false,
    "deletable": true,
    "editable": true
   },
   "outputs": [],
   "source": [
    "# now let's get rid of the cmp_name and user columns,\n",
    "# which we don't need any more, and address too\n",
    "final_columns = [\n",
    "    'Type', 'Start', 'End', 'Duration', 'Day of Week', 'Budget',\n",
    "    'Currency', 'Clicks', 'Impressions', 'Spent', 'CTR', 'CPC',\n",
    "    'CPI', 'Target Age', 'Target Gender', 'Username', 'Email',\n",
    "    'Name', 'Gender', 'Age'\n",
    "]\n",
    "df = df[final_columns]"
   ]
  },
  {
   "cell_type": "markdown",
   "metadata": {
    "deletable": true,
    "editable": true
   },
   "source": [
    "## 4 - Saving to a file in different formats"
   ]
  },
  {
   "cell_type": "code",
   "execution_count": null,
   "metadata": {
    "collapsed": true,
    "deletable": true,
    "editable": true
   },
   "outputs": [],
   "source": [
    "# CSV format\n",
    "# df.to_csv('df.csv')"
   ]
  },
  {
   "cell_type": "code",
   "execution_count": null,
   "metadata": {
    "collapsed": true,
    "deletable": true,
    "editable": true
   },
   "outputs": [],
   "source": [
    "# JSON format\n",
    "# df.to_json('df.json')"
   ]
  },
  {
   "cell_type": "code",
   "execution_count": null,
   "metadata": {
    "collapsed": false,
    "deletable": true,
    "editable": true
   },
   "outputs": [],
   "source": [
    "# Spreadsheet format\n",
    "# df.to_excel('df.xls')"
   ]
  },
  {
   "cell_type": "markdown",
   "metadata": {
    "deletable": true,
    "editable": true
   },
   "source": [
    "## 5 - Visualizing results"
   ]
  },
  {
   "cell_type": "markdown",
   "metadata": {
    "deletable": true,
    "editable": true
   },
   "source": [
    "First let's take care of the graphics, we need to instruct the notebook to use matplotlib inline and the serif font family."
   ]
  },
  {
   "cell_type": "code",
   "execution_count": null,
   "metadata": {
    "collapsed": true,
    "deletable": true,
    "editable": true
   },
   "outputs": [],
   "source": [
    "%matplotlib inline"
   ]
  },
  {
   "cell_type": "code",
   "execution_count": null,
   "metadata": {
    "collapsed": true,
    "deletable": true,
    "editable": true
   },
   "outputs": [],
   "source": [
    "import pylab\n",
    "pylab.rcParams.update({'font.family' : 'serif'})"
   ]
  },
  {
   "cell_type": "code",
   "execution_count": null,
   "metadata": {
    "collapsed": false,
    "deletable": true,
    "editable": true
   },
   "outputs": [],
   "source": [
    "df.describe()"
   ]
  },
  {
   "cell_type": "code",
   "execution_count": null,
   "metadata": {
    "collapsed": false,
    "deletable": true,
    "editable": true
   },
   "outputs": [],
   "source": [
    "df[['Budget', 'Spent', 'Clicks', 'Impressions']].hist(\n",
    "    bins=16, figsize=(16, 6));"
   ]
  },
  {
   "cell_type": "code",
   "execution_count": null,
   "metadata": {
    "collapsed": false,
    "deletable": true,
    "editable": true
   },
   "outputs": [],
   "source": [
    "df[['CTR', 'CPC', 'CPI']].hist(\n",
    "    bins=20, figsize=(16, 6));"
   ]
  },
  {
   "cell_type": "code",
   "execution_count": null,
   "metadata": {
    "collapsed": false,
    "deletable": true,
    "editable": true
   },
   "outputs": [],
   "source": [
    "# let's see the campaigns whose spent is > than 75% of the budget\n",
    "mask = (df.Spent > 0.75 * df.Budget)\n",
    "df[mask][['Budget', 'Spent', 'Clicks', 'Impressions']].hist(\n",
    "    bins=15, figsize=(16, 6), color='g');"
   ]
  },
  {
   "cell_type": "code",
   "execution_count": null,
   "metadata": {
    "collapsed": false,
    "deletable": true,
    "editable": true
   },
   "outputs": [],
   "source": [
    "# Let's aggregate per Day of the Week\n",
    "df_weekday = df.groupby(['Day of Week']).sum()\n",
    "df_weekday[['Impressions', 'Spent', 'Clicks']].plot(\n",
    "    figsize=(16, 6), subplots=True);"
   ]
  },
  {
   "cell_type": "code",
   "execution_count": null,
   "metadata": {
    "collapsed": false,
    "deletable": true,
    "editable": true
   },
   "outputs": [],
   "source": [
    "# Let's aggregate per gender\n",
    "agg_config = {\n",
    "    'Impressions': {\n",
    "        'Mean Impr': 'mean',\n",
    "        'Std Impr': 'std',\n",
    "    },\n",
    "    'Spent': ['mean', 'std'],\n",
    "}\n",
    "\n",
    "df.groupby(['Target Gender', 'Target Age']).agg(agg_config)"
   ]
  },
  {
   "cell_type": "code",
   "execution_count": null,
   "metadata": {
    "collapsed": false,
    "deletable": true,
    "editable": true
   },
   "outputs": [],
   "source": [
    "# finally, let's make a pivot table\n",
    "pivot = df.pivot_table(\n",
    "    values=['Impressions', 'Clicks', 'Spent'],\n",
    "    index=['Target Age'],\n",
    "    columns=['Target Gender'],\n",
    "    aggfunc=np.sum\n",
    ")\n",
    "pivot"
   ]
  },
  {
   "cell_type": "code",
   "execution_count": null,
   "metadata": {
    "collapsed": true
   },
   "outputs": [],
   "source": []
  }
 ],
 "metadata": {
  "kernelspec": {
   "display_name": "Python 3",
   "language": "python",
   "name": "python3"
  },
  "language_info": {
   "codemirror_mode": {
    "name": "ipython",
    "version": 3
   },
   "file_extension": ".py",
   "mimetype": "text/x-python",
   "name": "python",
   "nbconvert_exporter": "python",
   "pygments_lexer": "ipython3",
   "version": "3.4.6"
  }
 },
 "nbformat": 4,
 "nbformat_minor": 0
}
